{
 "cells": [
  {
   "cell_type": "code",
   "execution_count": 43,
   "metadata": {
    "ExecuteTime": {
     "end_time": "2017-11-16T02:28:26.983106Z",
     "start_time": "2017-11-16T02:28:26.974107Z"
    },
    "cell_style": "center"
   },
   "outputs": [
    {
     "name": "stdout",
     "output_type": "stream",
     "text": [
      "Populating the interactive namespace from numpy and matplotlib\n"
     ]
    }
   ],
   "source": [
    "%pylab inline\n",
    "import numpy as np"
   ]
  },
  {
   "cell_type": "code",
   "execution_count": 44,
   "metadata": {
    "ExecuteTime": {
     "end_time": "2017-11-16T02:28:27.416815Z",
     "start_time": "2017-11-16T02:28:27.408795Z"
    }
   },
   "outputs": [],
   "source": [
    "def relu(s):\n",
    "    return np.maximum(0,s)\n",
    "\n",
    "def l2_loss(y,y_pred, N):\n",
    "    diff = y - y_pred\n",
    "    return (1/N) * 0.5 * diff.dot(diff.T)\n",
    "\n",
    "def print_latex(X):\n",
    "    tab = ''\n",
    "    for i in X:\n",
    "        for j in i:\n",
    "            tab += ' {:.4f} &'.format(j)\n",
    "        tab = tab[:-1] + '\\\\\\\\ \\n'\n",
    "        \n",
    "    print(tab)"
   ]
  },
  {
   "cell_type": "code",
   "execution_count": 45,
   "metadata": {
    "ExecuteTime": {
     "end_time": "2017-11-16T02:28:27.808390Z",
     "start_time": "2017-11-16T02:28:27.796390Z"
    },
    "cell_style": "center",
    "code_folding": []
   },
   "outputs": [
    {
     "name": "stdout",
     "output_type": "stream",
     "text": [
      "X\n",
      " [[ 0.75  0.2  -0.75  0.2 ]\n",
      " [ 0.8   0.05  0.8  -0.05]]\n",
      "y\n",
      " [ 1  1 -1 -1]\n",
      "W_1\n",
      " [[ 0.6   0.01]\n",
      " [ 0.7   0.43]\n",
      " [ 0.    0.88]]\n",
      "W_2\n",
      " [[ 0.02  0.03  0.09]]\n"
     ]
    }
   ],
   "source": [
    "# Init\n",
    "\n",
    "np.random.seed(42)\n",
    "\n",
    "N = 4\n",
    "X = np.array([[0.75, 0.80], \n",
    "              [0.20, 0.05], \n",
    "              [-0.75, 0.80], \n",
    "              [0.20, -0.05]]).T\n",
    "y = np.array([1, 1, -1, -1]).T\n",
    "\n",
    "W_1 = np.array([[0.6, 0.7, 0.0],[0.01, 0.43, 0.88]]).T\n",
    "W_2 = np.array([[0.02, 0.03, 0.09]])\n",
    "\n",
    "print('X\\n', X)\n",
    "print('y\\n', y)\n",
    "print('W_1\\n', W_1)\n",
    "print('W_2\\n', W_2)"
   ]
  },
  {
   "cell_type": "code",
   "execution_count": 46,
   "metadata": {
    "ExecuteTime": {
     "end_time": "2017-11-16T02:28:28.244059Z",
     "start_time": "2017-11-16T02:28:28.240100Z"
    },
    "collapsed": true
   },
   "outputs": [],
   "source": [
    "# \\[\n",
    "# M=\n",
    "#   \\begin{bmatrix}\n",
    "#     1 & 2 & 3 & 4 & 5 \\\\\n",
    "#     3 & 4 & 5 & 6 & 7\n",
    "#   \\end{bmatrix}\n",
    "# # \\]"
   ]
  },
  {
   "cell_type": "markdown",
   "metadata": {},
   "source": [
    "## Forward"
   ]
  },
  {
   "cell_type": "code",
   "execution_count": 54,
   "metadata": {
    "ExecuteTime": {
     "end_time": "2017-11-16T02:28:59.123305Z",
     "start_time": "2017-11-16T02:28:59.109327Z"
    }
   },
   "outputs": [
    {
     "name": "stdout",
     "output_type": "stream",
     "text": [
      "s = W.X (3, 4) \n",
      " [[ 0.4609029   0.12093892 -0.44161944  0.1197337 ]\n",
      " [ 0.87335435  0.16215838 -0.18042917  0.11885056]\n",
      " [ 0.7173808   0.04771543  0.68917703 -0.04019443]]\n",
      "z=relu(s) (3, 4) \n",
      " [[ 0.4609029   0.12093892  0.          0.1197337 ]\n",
      " [ 0.87335435  0.16215838  0.          0.11885056]\n",
      " [ 0.7173808   0.04771543  0.68917703  0.        ]]\n",
      "s_out = W_2.z (1, 4) \n",
      " [[ 0.20731924  0.03408093  0.05595202  0.02436202]]\n",
      "z_out=linear(s_out) (1, 4) \n",
      " [[ 0.20731924  0.03408093  0.05595202  0.02436202]]\n",
      "Loss (1, 1) \n",
      " [[ 0.46571183]]\n"
     ]
    }
   ],
   "source": [
    "s = W_1.dot(X)\n",
    "z = relu(s)\n",
    "\n",
    "print('s = W.X', s.shape, '\\n', s)\n",
    "print('z=relu(s)', z.shape,  '\\n', z)\n",
    "\n",
    "s_out = W_2.dot(z)\n",
    "y_out = z_out = s_out\n",
    "\n",
    "print('s_out = W_2.z', s_out.shape, '\\n', s_out)\n",
    "print('z_out=linear(s_out)', z_out.shape,  '\\n', z_out)\n",
    "\n",
    "loss = l2_loss(y, y_out, N=N)\n",
    "print('Loss', loss.shape, '\\n', loss)"
   ]
  },
  {
   "cell_type": "markdown",
   "metadata": {
    "collapsed": true
   },
   "source": [
    "### Backward"
   ]
  },
  {
   "cell_type": "code",
   "execution_count": 48,
   "metadata": {
    "ExecuteTime": {
     "end_time": "2017-11-16T02:28:29.916262Z",
     "start_time": "2017-11-16T02:28:29.909258Z"
    },
    "collapsed": true
   },
   "outputs": [],
   "source": [
    "dL_dYout = 1/N * (y_out - y)\n",
    "delta_out = dL_dSout = dL_dYout\n",
    "\n",
    "dL_dW2 = delta_out.dot(z.T)\n",
    "\n",
    "# relu derivative\n",
    "dL_dZ = np.where(s>0, np.ones(s.shape), 0)\n",
    "delta_1 = dL_dS = W_2.T.dot(delta_out) * dL_dZ\n",
    "\n",
    "dL_dW1 = delta_1.dot(X.T)"
   ]
  },
  {
   "cell_type": "code",
   "execution_count": 53,
   "metadata": {
    "ExecuteTime": {
     "end_time": "2017-11-16T02:28:49.612192Z",
     "start_time": "2017-11-16T02:28:49.606163Z"
    }
   },
   "outputs": [
    {
     "name": "stdout",
     "output_type": "stream",
     "text": [
      " 0.0715 & 0.1330 & 0.0812 \\\\ \n",
      "\n"
     ]
    }
   ],
   "source": [
    "print_latex(W_2)"
   ]
  },
  {
   "cell_type": "code",
   "execution_count": 50,
   "metadata": {
    "ExecuteTime": {
     "end_time": "2017-11-16T02:28:30.736132Z",
     "start_time": "2017-11-16T02:28:30.725628Z"
    }
   },
   "outputs": [
    {
     "name": "stdout",
     "output_type": "stream",
     "text": [
      "dL_dYout \n",
      " [[-0.2253525  -0.24719625  0.26584     0.25148625]]\n",
      "delta_out \n",
      " [[-0.2253525  -0.24719625  0.26584     0.25148625]]\n",
      "dL_dW2 \n",
      " [[-0.10294599 -0.2059524   0.01762657]]\n",
      "delta_1 \n",
      " [[-0.00450705 -0.00494393  0.          0.00502973]\n",
      " [-0.00676058 -0.00741589  0.          0.00754459]\n",
      " [-0.02028173 -0.02224766  0.0239256   0.        ]]\n",
      "dL_dW1 \n",
      " [[-0.00336313 -0.00410432]\n",
      " [-0.00504469 -0.00615648]\n",
      " [-0.03760503  0.00180272]]\n"
     ]
    }
   ],
   "source": [
    "print('dL_dYout \\n',dL_dYout)\n",
    "print('delta_out \\n',delta_out)\n",
    "print('dL_dW2 \\n',dL_dW2)\n",
    "print('delta_1 \\n',delta_1)\n",
    "print('dL_dW1 \\n',dL_dW1)"
   ]
  },
  {
   "cell_type": "code",
   "execution_count": 51,
   "metadata": {
    "ExecuteTime": {
     "end_time": "2017-11-16T02:28:31.174586Z",
     "start_time": "2017-11-16T02:28:31.167602Z"
    }
   },
   "outputs": [
    {
     "name": "stdout",
     "output_type": "stream",
     "text": [
      "W_2 \n",
      " [[ 0.07147299  0.1329762   0.08118672]]\n",
      "W_1 \n",
      " [[ 0.60168156  0.01205216]\n",
      " [ 0.70252235  0.43307824]\n",
      " [ 0.01880251  0.87909864]]\n"
     ]
    }
   ],
   "source": [
    "W_2 -= 0.5 * dL_dW2\n",
    "W_1 -= 0.5 * dL_dW1\n",
    "\n",
    "print('W_2 \\n',W_2)\n",
    "print('W_1 \\n',W_1)"
   ]
  },
  {
   "cell_type": "code",
   "execution_count": null,
   "metadata": {
    "collapsed": true
   },
   "outputs": [],
   "source": []
  },
  {
   "cell_type": "code",
   "execution_count": null,
   "metadata": {
    "collapsed": true
   },
   "outputs": [],
   "source": []
  }
 ],
 "metadata": {
  "anaconda-cloud": {},
  "kernelspec": {
   "display_name": "Python [conda root]",
   "language": "python",
   "name": "conda-root-py"
  },
  "toc": {
   "nav_menu": {},
   "number_sections": true,
   "sideBar": true,
   "skip_h1_title": false,
   "toc_cell": false,
   "toc_position": {},
   "toc_section_display": "block",
   "toc_window_display": false
  },
  "varInspector": {
   "cols": {
    "lenName": 16,
    "lenType": 16,
    "lenVar": 40
   },
   "kernels_config": {
    "python": {
     "delete_cmd_postfix": "",
     "delete_cmd_prefix": "del ",
     "library": "var_list.py",
     "varRefreshCmd": "print(var_dic_list())"
    },
    "r": {
     "delete_cmd_postfix": ") ",
     "delete_cmd_prefix": "rm(",
     "library": "var_list.r",
     "varRefreshCmd": "cat(var_dic_list()) "
    }
   },
   "position": {
    "height": "292px",
    "left": "732.28px",
    "right": "20px",
    "top": "201.993px",
    "width": "332px"
   },
   "types_to_exclude": [
    "module",
    "function",
    "builtin_function_or_method",
    "instance",
    "_Feature"
   ],
   "window_display": false
  }
 },
 "nbformat": 4,
 "nbformat_minor": 2
}
