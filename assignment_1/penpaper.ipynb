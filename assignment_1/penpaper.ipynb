{
 "cells": [
  {
   "cell_type": "code",
   "execution_count": 2,
   "metadata": {
    "ExecuteTime": {
     "end_time": "2017-11-03T18:59:48.976491Z",
     "start_time": "2017-11-03T18:59:48.641868Z"
    },
    "cell_style": "center"
   },
   "outputs": [
    {
     "name": "stdout",
     "output_type": "stream",
     "text": [
      "Populating the interactive namespace from numpy and matplotlib\n"
     ]
    }
   ],
   "source": [
    "%pylab inline\n",
    "import numpy as np"
   ]
  },
  {
   "cell_type": "code",
   "execution_count": 35,
   "metadata": {
    "ExecuteTime": {
     "end_time": "2017-11-03T19:18:41.686073Z",
     "start_time": "2017-11-03T19:18:41.682073Z"
    },
    "collapsed": true
   },
   "outputs": [],
   "source": [
    "def relu(s):\n",
    "    return np.maximum(0,s)\n",
    "\n",
    "def l2_loss(y,y_pred):\n",
    "    diff = y - y_pred\n",
    "    return 0.5 ** diff.dot(diff.T)"
   ]
  },
  {
   "cell_type": "code",
   "execution_count": 44,
   "metadata": {
    "ExecuteTime": {
     "end_time": "2017-11-03T19:20:51.537546Z",
     "start_time": "2017-11-03T19:20:51.528545Z"
    },
    "cell_style": "center",
    "code_folding": []
   },
   "outputs": [
    {
     "name": "stdout",
     "output_type": "stream",
     "text": [
      "X (2, 4)\n",
      "y (4,)\n",
      "W_1 (3, 2)\n",
      "W_2 (1, 3)\n"
     ]
    }
   ],
   "source": [
    "# Init\n",
    "X = np.array([[0.75, 0.80], \n",
    "              [0.20, 0.05], \n",
    "              [-0.75, 0.80], \n",
    "              [0.20, -0.05]]).T\n",
    "y = np.array([1, 1, -1, -1]).T\n",
    "\n",
    "W_1 = np.array([[0.6, 0.7, 0.0],[0.01, 0.43, 0.88]]).T\n",
    "W_2 = np.array([[0.02, 0.03, 0.09]])\n",
    "\n",
    "print('X', X.shape)\n",
    "print('y', y.shape)\n",
    "print('W_1', W_1.shape)\n",
    "print('W_2', W_2.shape)"
   ]
  },
  {
   "cell_type": "code",
   "execution_count": 45,
   "metadata": {
    "ExecuteTime": {
     "end_time": "2017-11-03T19:20:52.529400Z",
     "start_time": "2017-11-03T19:20:52.515417Z"
    }
   },
   "outputs": [
    {
     "name": "stdout",
     "output_type": "stream",
     "text": [
      "s = W.X (3, 4) \n",
      " [[ 0.458   0.1205 -0.442   0.1195]\n",
      " [ 0.869   0.1615 -0.181   0.1185]\n",
      " [ 0.704   0.044   0.704  -0.044 ]]\n",
      "z=relu(s) (3, 4) \n",
      " [[ 0.458   0.1205  0.      0.1195]\n",
      " [ 0.869   0.1615  0.      0.1185]\n",
      " [ 0.704   0.044   0.704   0.    ]]\n",
      "s_out = W_2.z (1, 4) \n",
      " [[ 0.09859   0.011215  0.06336   0.005945]]\n",
      "z_out=linear(s_out) (1, 4) \n",
      " [[ 0.09859   0.011215  0.06336   0.005945]]\n",
      "(1, 4)\n",
      "Loss (1, 1) \n",
      " [[ 0.06547575]]\n"
     ]
    }
   ],
   "source": [
    "s = W_1.dot(X)\n",
    "z = relu(s)\n",
    "\n",
    "print('s = W.X', s.shape, '\\n', s)\n",
    "print('z=relu(s)', z.shape,  '\\n', z)\n",
    "\n",
    "s_out = W_2.dot(z)\n",
    "y_out = z_out = s_out\n",
    "\n",
    "print('s_out = W_2.z', s_out.shape, '\\n', s_out)\n",
    "print('z_out=linear(s_out)', z_out.shape,  '\\n', z_out)\n",
    "\n",
    "loss = l2_loss(y, y_out)\n",
    "print('Loss', loss.shape, '\\n', loss)"
   ]
  },
  {
   "cell_type": "code",
   "execution_count": null,
   "metadata": {
    "collapsed": true
   },
   "outputs": [],
   "source": []
  }
 ],
 "metadata": {
  "anaconda-cloud": {},
  "kernelspec": {
   "display_name": "Python [conda root]",
   "language": "python",
   "name": "conda-root-py"
  },
  "language_info": {
   "codemirror_mode": {
    "name": "ipython",
    "version": 3
   },
   "file_extension": ".py",
   "mimetype": "text/x-python",
   "name": "python",
   "nbconvert_exporter": "python",
   "pygments_lexer": "ipython3",
   "version": "3.6.1"
  },
  "toc": {
   "nav_menu": {},
   "number_sections": true,
   "sideBar": true,
   "skip_h1_title": false,
   "toc_cell": false,
   "toc_position": {},
   "toc_section_display": "block",
   "toc_window_display": false
  },
  "varInspector": {
   "cols": {
    "lenName": 16,
    "lenType": 16,
    "lenVar": 40
   },
   "kernels_config": {
    "python": {
     "delete_cmd_postfix": "",
     "delete_cmd_prefix": "del ",
     "library": "var_list.py",
     "varRefreshCmd": "print(var_dic_list())"
    },
    "r": {
     "delete_cmd_postfix": ") ",
     "delete_cmd_prefix": "rm(",
     "library": "var_list.r",
     "varRefreshCmd": "cat(var_dic_list()) "
    }
   },
   "position": {
    "height": "292px",
    "left": "732.28px",
    "right": "20px",
    "top": "201.993px",
    "width": "332px"
   },
   "types_to_exclude": [
    "module",
    "function",
    "builtin_function_or_method",
    "instance",
    "_Feature"
   ],
   "window_display": false
  }
 },
 "nbformat": 4,
 "nbformat_minor": 2
}
