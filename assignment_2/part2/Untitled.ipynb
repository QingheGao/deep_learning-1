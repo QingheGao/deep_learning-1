{
 "cells": [
  {
   "cell_type": "code",
   "execution_count": 2,
   "metadata": {
    "ExecuteTime": {
     "end_time": "2017-11-27T23:26:52.484059Z",
     "start_time": "2017-11-27T23:26:50.367839Z"
    },
    "collapsed": true
   },
   "outputs": [],
   "source": [
    "import pickle\n",
    "from dataset import *"
   ]
  },
  {
   "cell_type": "code",
   "execution_count": 3,
   "metadata": {
    "ExecuteTime": {
     "end_time": "2017-11-27T23:27:12.005071Z",
     "start_time": "2017-11-27T23:27:11.961091Z"
    }
   },
   "outputs": [
    {
     "name": "stdout",
     "output_type": "stream",
     "text": [
      "Initialize dataset with 1377279 characters, 108 unique.\n"
     ]
    }
   ],
   "source": [
    "dataset = TextDataset('./books/book_EN_carl_sagan_compilation.txt')\n",
    "\n",
    "with open('./default_sagan_decoded_seqs.pkl', 'rb') as f:\n",
    "    data = pickle.load(f)"
   ]
  },
  {
   "cell_type": "code",
   "execution_count": 5,
   "metadata": {
    "ExecuteTime": {
     "end_time": "2017-11-27T23:27:56.707126Z",
     "start_time": "2017-11-27T23:27:56.703130Z"
    }
   },
   "outputs": [],
   "source": [
    "def decode(sequence, dataset):\n",
    "    return \"\".join([dataset._ix_to_char[x] for x in sequence])"
   ]
  },
  {
   "cell_type": "code",
   "execution_count": 19,
   "metadata": {
    "ExecuteTime": {
     "end_time": "2017-11-27T23:31:32.510918Z",
     "start_time": "2017-11-27T23:31:32.489917Z"
    }
   },
   "outputs": [
    {
     "name": "stdout",
     "output_type": "stream",
     "text": [
      "After 0 steps:  -;;--eeeejj8888999999G××CCCCCC999CCC99CCC99CCC99CC\n",
      "After 500 steps:   oon the the the the the the the the the the the t\n",
      "After 1000 steps:   the stars of the stars of the stars of the stars \n",
      "After 1500 steps:  e are a surface of the stars of the stars of the s\n",
      "After 2000 steps:   the surface of the surface of the surface of the \n",
      "After 2500 steps:  ery something the stars of the solar system the st\n",
      "After 3000 steps:   the space of the space of the space of the space \n",
      "After 3500 steps:  ng the stars and the stars and the stars and the s\n",
      "After 4000 steps:   the surface of the surface of the surface of the \n",
      "After 4500 steps:   and the surface of the surface of the surface of \n",
      "After 5000 steps:  n the spacecraft are a section of the spacecraft a\n",
      "After 5500 steps:   of the stars and the stars and the stars and the \n",
      "After 6000 steps:   the surface of the surface of the surface of the \n",
      "After 6500 steps:   the stars are the stars are the stars are the sta\n",
      "After 7000 steps:   the stars and the stars and the stars and the sta\n",
      "After 7500 steps:   the stars and the stars and the stars and the sta\n",
      "After 8000 steps:  ustern and the stars are the stars are the stars a\n",
      "After 8500 steps:   the surface of the surface of the surface of the \n",
      "After 9000 steps:   of the spacecraft in the spacecraft in the spacec\n",
      "After 9500 steps:  uire and the spacecraft to the spacecraft to the s\n",
      "After 10000 steps:  n the stars are the stars are the stars are the st\n",
      "After 10500 steps:  he stars are made of the stars are made of the sta\n",
      "After 11000 steps:   seem to be a second of the surface of the surface\n",
      "After 11500 steps:   the surface of the surface of the surface of the \n",
      "After 12000 steps:  n the stars are the surface of the stars are the s\n",
      "After 12500 steps:   The speed of light in the speed of light in the s\n",
      "After 13000 steps:   the stars are a star is a star is a star is a sta\n",
      "After 13500 steps:  art and the stars are so far as a star is a single\n",
      "After 14000 steps:   the surface of the stars and the surface of the s\n",
      "After 14500 steps:  the Earth is a star in the sky in the sky in the s\n",
      "After 15000 steps:  ery stars are a star is a star is a star is a star\n",
      "After 15500 steps:   The spacecraft to be a star in the sky is a star \n",
      "After 16000 steps:  e can be a similar star in the stars and stars and\n",
      "After 16500 steps:  arth orbit of the species of the species of the sp\n",
      "After 17000 steps:   the stars are a star in the sky is a spacecraft w\n",
      "After 17500 steps:  00 years ago the surface of the sky is a contradic\n",
      "After 18000 steps:  ection of the stars and the surface of the stars a\n",
      "After 18500 steps:  or exploration of the speed of light is a star in \n",
      "After 19000 steps:  nd the stars and the stars and the stars and the s\n",
      "After 19500 steps:   the same possible to the surface of the speed of \n"
     ]
    }
   ],
   "source": [
    "for i in range(0,20000, 500):\n",
    "    seqs = data[i]\n",
    "    \n",
    "    batch_size = seqs.shape[1]\n",
    "    \n",
    "    random_batch_idx = np.random.choice(batch_size)\n",
    "    print('After {} steps: '.format(i), decode(seqs[:,random_batch_idx], dataset))"
   ]
  },
  {
   "cell_type": "code",
   "execution_count": 8,
   "metadata": {
    "ExecuteTime": {
     "end_time": "2017-11-27T23:29:09.598052Z",
     "start_time": "2017-11-27T23:29:09.587051Z"
    }
   },
   "outputs": [
    {
     "data": {
      "text/plain": [
       "(50, 64)"
      ]
     },
     "execution_count": 8,
     "metadata": {},
     "output_type": "execute_result"
    }
   ],
   "source": [
    "seqs.shape"
   ]
  }
 ],
 "metadata": {
  "anaconda-cloud": {},
  "kernelspec": {
   "display_name": "Python [conda root]",
   "language": "python",
   "name": "conda-root-py"
  },
  "language_info": {
   "codemirror_mode": {
    "name": "ipython",
    "version": 3
   },
   "file_extension": ".py",
   "mimetype": "text/x-python",
   "name": "python",
   "nbconvert_exporter": "python",
   "pygments_lexer": "ipython3",
   "version": "3.6.1"
  },
  "toc": {
   "nav_menu": {},
   "number_sections": true,
   "sideBar": true,
   "skip_h1_title": false,
   "toc_cell": false,
   "toc_position": {},
   "toc_section_display": "block",
   "toc_window_display": false
  },
  "varInspector": {
   "cols": {
    "lenName": 16,
    "lenType": 16,
    "lenVar": 40
   },
   "kernels_config": {
    "python": {
     "delete_cmd_postfix": "",
     "delete_cmd_prefix": "del ",
     "library": "var_list.py",
     "varRefreshCmd": "print(var_dic_list())"
    },
    "r": {
     "delete_cmd_postfix": ") ",
     "delete_cmd_prefix": "rm(",
     "library": "var_list.r",
     "varRefreshCmd": "cat(var_dic_list()) "
    }
   },
   "types_to_exclude": [
    "module",
    "function",
    "builtin_function_or_method",
    "instance",
    "_Feature"
   ],
   "window_display": false
  }
 },
 "nbformat": 4,
 "nbformat_minor": 2
}
